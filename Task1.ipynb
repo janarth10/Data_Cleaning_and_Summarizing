{
 "cells": [
  {
   "cell_type": "code",
   "execution_count": 184,
   "metadata": {},
   "outputs": [],
   "source": [
    "import pandas as pd\n",
    "file_name = 'bank.csv'\n",
    "\n",
    "def prepare_str(s):\n",
    "    return s[1:-1].lower().strip()\n",
    "\n",
    "file = pd.read_csv(file_name, encoding='utf-8', sep=\";\", quoting=3,  \n",
    "                   converters={'\"job\"':prepare_str,\n",
    "                              '\"marital\"':prepare_str,\n",
    "                              '\"education\"':prepare_str,\n",
    "                              '\"default\"':prepare_str,\n",
    "                              '\"housing\"':prepare_str,\n",
    "                              '\"loan\"':prepare_str,\n",
    "                              '\"contact\"':prepare_str,\n",
    "                              '\"month\"':prepare_str,\n",
    "                              '\"day_of_week\"':prepare_str,\n",
    "                              '\"poutcome\"':prepare_str,\n",
    "                              '\"y\"':prepare_str,})\n",
    "file_copy = file.copy()\n"
   ]
  },
  {
   "cell_type": "code",
   "execution_count": 185,
   "metadata": {
    "scrolled": true
   },
   "outputs": [],
   "source": [
    "# fixing data entry typos \n",
    "\n",
    "marital_c = file_copy['\"marital\"']\n",
    "marital_c.mask(marital_c == \"divorceded\", other=\"divorced\", inplace=True)\n",
    "\n",
    "default_c = file_copy['\"default\"']\n",
    "default_c.mask(default_c == \"noo\", other=\"no\", inplace=True)\n",
    "\n",
    "housing_c = file_copy['\"housing\"']\n",
    "housing_c.mask(housing_c == \"yess\", other=\"yes\", inplace=True)\n",
    "\n",
    "# setting to NaN, then later fill with column-wise mean value\n",
    "duration_c = file_copy['\"duration\"']\n",
    "duration_c.mask(duration_c == \"-\", inplace=True)\n",
    "\n",
    "# filling NA values with column-wise mean\n",
    "file_copy = file_copy.fillna(file_copy.mean(axis=0))\n",
    "\n",
    "# sanity tests(dropping impossible values)\n",
    "\n",
    "# assuming there isn't anyone whose age > 120\n",
    "idx = file_copy[(file_copy['\"age\"'] > 120)].index.values\n",
    "file_copy.drop(idx, inplace=True)\n",
    "\n",
    "# if duration = 0 then y must be 'no'\n",
    "idx = file_copy[(file_copy['\"duration\"'] == 0) &\n",
    "               (file_copy['\"y\"'] == 'yes')].index.values\n",
    "file_copy.drop(idx, inplace=True)\n",
    "\n",
    "# if pdays == 999 then poutcome should not be 'success'\n",
    "idx = file_copy[(file_copy['\"pdays\"'] == 999) &\n",
    "               (file_copy['\"poutcome\"'] == 'success')].index.values\n",
    "file_copy.drop(idx, inplace=True)\n",
    "\n",
    "\n",
    "\n"
   ]
  },
  {
   "cell_type": "code",
   "execution_count": null,
   "metadata": {},
   "outputs": [],
   "source": []
  },
  {
   "cell_type": "code",
   "execution_count": null,
   "metadata": {},
   "outputs": [],
   "source": []
  },
  {
   "cell_type": "code",
   "execution_count": null,
   "metadata": {},
   "outputs": [],
   "source": []
  },
  {
   "cell_type": "code",
   "execution_count": null,
   "metadata": {},
   "outputs": [],
   "source": []
  },
  {
   "cell_type": "code",
   "execution_count": null,
   "metadata": {},
   "outputs": [],
   "source": []
  },
  {
   "cell_type": "code",
   "execution_count": null,
   "metadata": {},
   "outputs": [],
   "source": []
  },
  {
   "cell_type": "code",
   "execution_count": null,
   "metadata": {},
   "outputs": [],
   "source": []
  }
 ],
 "metadata": {
  "kernelspec": {
   "display_name": "Python 2",
   "language": "python",
   "name": "python2"
  },
  "language_info": {
   "codemirror_mode": {
    "name": "ipython",
    "version": 2
   },
   "file_extension": ".py",
   "mimetype": "text/x-python",
   "name": "python",
   "nbconvert_exporter": "python",
   "pygments_lexer": "ipython2",
   "version": "2.7.14"
  }
 },
 "nbformat": 4,
 "nbformat_minor": 2
}
