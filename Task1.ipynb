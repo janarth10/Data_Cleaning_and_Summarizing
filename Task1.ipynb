{
 "cells": [
  {
   "cell_type": "code",
   "execution_count": 160,
   "metadata": {},
   "outputs": [],
   "source": [
    "import pandas as pd\n",
    "file_name = 'bank.csv'\n",
    "\n",
    "def remove_quotes(s):\n",
    "    return s[1:-1]\n",
    "\n",
    "file = pd.read_csv(file_name, encoding='utf-8', sep=\";\", quoting=3,  \n",
    "                   converters={'\"job\"':remove_quotes,\n",
    "                              '\"marital\"':remove_quotes,\n",
    "                              '\"education\"':remove_quotes,\n",
    "                              '\"default\"':remove_quotes,\n",
    "                              '\"housing\"':remove_quotes,\n",
    "                              '\"loan\"':remove_quotes,\n",
    "                              '\"contact\"':remove_quotes,\n",
    "                              '\"month\"':remove_quotes,\n",
    "                              '\"day_of_week\"':remove_quotes,\n",
    "                              '\"poutcome\"':remove_quotes,\n",
    "                              '\"y\"':remove_quotes,})\n",
    "file_copy = file.copy()\n"
   ]
  },
  {
   "cell_type": "code",
   "execution_count": 162,
   "metadata": {
    "scrolled": true
   },
   "outputs": [
    {
     "data": {
      "text/plain": [
       "\"age\"                        39\n",
       "\"job\"               blue-collar\n",
       "\"marital\"               married\n",
       "\"education\"            basic.6y\n",
       "\"default\"                    no\n",
       "\"housing\"                    no\n",
       "\"loan\"                       no\n",
       "\"contact\"             telephone\n",
       "\"month\"                     may\n",
       "\"day_of_week\"               thu\n",
       "\"duration\"                  NaN\n",
       "\"campaign\"                    1\n",
       "\"pdays\"                     999\n",
       "\"previous\"                    0\n",
       "\"poutcome\"          nonexistent\n",
       "\"emp.var.rate\"              1.1\n",
       "\"cons.price.idx\"         93.994\n",
       "\"cons.conf.idx\"           -36.4\n",
       "\"euribor3m\"               4.855\n",
       "\"nr.employed\"              5191\n",
       "\"y\"                          no\n",
       "Name: 678, dtype: object"
      ]
     },
     "execution_count": 162,
     "metadata": {},
     "output_type": "execute_result"
    }
   ],
   "source": [
    "# fixing data entry typos \n",
    "\n",
    "marital_c = file_copy['\"marital\"']\n",
    "marital_c.mask(marital_c == \"divorceded\", other=\"divorced\", inplace=True)\n",
    "\n",
    "default_c = file_copy['\"default\"']\n",
    "default_c.mask(default_c == \"noo\", other=\"no\", inplace=True)\n",
    "\n",
    "housing_c = file_copy['\"housing\"']\n",
    "housing_c.mask(housing_c == \"yess\", other=\"yes\", inplace=True)\n",
    "\n",
    "duration_c = file_copy['\"duration\"']\n",
    "duration_c.mask(duration_c == \"-\", inplace=True)\n",
    "duration_c.value_counts()\n"
   ]
  },
  {
   "cell_type": "code",
   "execution_count": null,
   "metadata": {},
   "outputs": [],
   "source": []
  },
  {
   "cell_type": "code",
   "execution_count": null,
   "metadata": {},
   "outputs": [],
   "source": []
  },
  {
   "cell_type": "code",
   "execution_count": null,
   "metadata": {},
   "outputs": [],
   "source": []
  },
  {
   "cell_type": "code",
   "execution_count": null,
   "metadata": {},
   "outputs": [],
   "source": []
  },
  {
   "cell_type": "code",
   "execution_count": null,
   "metadata": {},
   "outputs": [],
   "source": []
  },
  {
   "cell_type": "code",
   "execution_count": null,
   "metadata": {},
   "outputs": [],
   "source": []
  },
  {
   "cell_type": "code",
   "execution_count": null,
   "metadata": {},
   "outputs": [],
   "source": []
  }
 ],
 "metadata": {
  "kernelspec": {
   "display_name": "Python 2",
   "language": "python",
   "name": "python2"
  },
  "language_info": {
   "codemirror_mode": {
    "name": "ipython",
    "version": 2
   },
   "file_extension": ".py",
   "mimetype": "text/x-python",
   "name": "python",
   "nbconvert_exporter": "python",
   "pygments_lexer": "ipython2",
   "version": "2.7.14"
  }
 },
 "nbformat": 4,
 "nbformat_minor": 2
}
